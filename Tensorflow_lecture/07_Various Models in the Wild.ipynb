{
 "cells": [
  {
   "cell_type": "code",
   "execution_count": null,
   "id": "aed362c6",
   "metadata": {},
   "outputs": [],
   "source": [
    "import tensorflow as tf\n",
    "\n",
    "from tensorflow.keras.models import Model, Sequential\n",
    "\n",
    "# custum layer를 만들어 줄때 사용하기\n",
    "from tensorflow.keras.layers import Layer, Dense, Flatten, Conv2D, Activation\n",
    "\n",
    "from tensorflow.keras.losses import MeanSquaredError\n",
    "from tensorflow.keras.metrics import SparseCategoricalAccuracy\n"
   ]
  },
  {
   "cell_type": "code",
   "execution_count": 1,
   "id": "bc82988b",
   "metadata": {},
   "outputs": [
    {
     "ename": "SyntaxError",
     "evalue": "unexpected EOF while parsing (Temp/ipykernel_3652/3067436347.py, line 1)",
     "output_type": "error",
     "traceback": [
      "\u001b[1;36m  File \u001b[1;32m\"C:\\Users\\yutan\\AppData\\Local\\Temp/ipykernel_3652/3067436347.py\"\u001b[1;36m, line \u001b[1;32m1\u001b[0m\n\u001b[1;33m    class CustomLayer1(Layer):\u001b[0m\n\u001b[1;37m                              ^\u001b[0m\n\u001b[1;31mSyntaxError\u001b[0m\u001b[1;31m:\u001b[0m unexpected EOF while parsing\n"
     ]
    }
   ],
   "source": [
    "\"\"\"\n",
    "1. custum layer를 만들어주기\n",
    "2. 나중에 sequential롤 합해주면 좀 편하게 사용 가능\n",
    "\n",
    "Model, 이랑  Sequential 을 잘 섞어서 써야함 -> custum layer는 layers 로 만들지만 ,  fit, evaluate 함수 사용 불가\n",
    "\n",
    "\"\"\"\n",
    "\n",
    "\n",
    "class CustomLayer1(Layer):\n",
    "    def __init__(self):\n",
    "        super(CustomLayer1, self).__init__()\n",
    "        \n",
    "    def call(self, x)\n",
    "    \n",
    "# custum layer를 만들고"
   ]
  },
  {
   "cell_type": "code",
   "execution_count": null,
   "id": "8104baf1",
   "metadata": {},
   "outputs": [],
   "source": [
    "# 다양한 방식으로 모델을 만들어 쥐기\n",
    "\n",
    "# sequential model에 넣어주면 쉽게 사용이 가능함\n",
    "model  = Sequential()\n",
    "model.add(Customlayer1)"
   ]
  }
 ],
 "metadata": {
  "kernelspec": {
   "display_name": "Python 3 (ipykernel)",
   "language": "python",
   "name": "python3"
  },
  "language_info": {
   "codemirror_mode": {
    "name": "ipython",
    "version": 3
   },
   "file_extension": ".py",
   "mimetype": "text/x-python",
   "name": "python",
   "nbconvert_exporter": "python",
   "pygments_lexer": "ipython3",
   "version": "3.7.0"
  }
 },
 "nbformat": 4,
 "nbformat_minor": 5
}
