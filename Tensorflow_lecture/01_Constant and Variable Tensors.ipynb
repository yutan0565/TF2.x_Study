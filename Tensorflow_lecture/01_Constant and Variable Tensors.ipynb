{
 "cells": [
  {
   "cell_type": "code",
   "execution_count": 7,
   "id": "13c04c73",
   "metadata": {},
   "outputs": [],
   "source": [
    "import tensorflow as tf\n",
    "import numpy as np"
   ]
  },
  {
   "cell_type": "code",
   "execution_count": 2,
   "id": "77c40af3",
   "metadata": {},
   "outputs": [
    {
     "name": "stdout",
     "output_type": "stream",
     "text": [
      "2.6.0\n"
     ]
    }
   ],
   "source": [
    "print(tf.__version__)"
   ]
  },
  {
   "cell_type": "code",
   "execution_count": 11,
   "id": "0f481283",
   "metadata": {},
   "outputs": [
    {
     "name": "stdout",
     "output_type": "stream",
     "text": [
      "<tf.Variable 'Variable:0' shape=(3,) dtype=int32, numpy=array([1, 2, 3])>\n",
      "<class 'tensorflow.python.ops.resource_variable_ops.ResourceVariable'>\n",
      "tf.Tensor([1 2 3], shape=(3,), dtype=int32)\n",
      "<class 'tensorflow.python.framework.ops.EagerTensor'>\n"
     ]
    }
   ],
   "source": [
    "t1 = tf.Variable([1,2,3]) # 변하는 숫자 model parameter\n",
    "t2 = tf.constant([1,2,3]) # 변할 수 없음 \n",
    "\n",
    "print(t1)\n",
    "print(type(t1))\n",
    "print(t2)\n",
    "print(type(t2))"
   ]
  },
  {
   "cell_type": "code",
   "execution_count": 14,
   "id": "8684ee64",
   "metadata": {},
   "outputs": [
    {
     "name": "stdout",
     "output_type": "stream",
     "text": [
      "<tf.Variable 'Variable:0' shape=(3,) dtype=int32, numpy=array([1, 2, 3])>\n",
      "<class 'tensorflow.python.ops.resource_variable_ops.ResourceVariable'>\n",
      "<tf.Variable 'Variable:0' shape=(3,) dtype=int32, numpy=array([1, 2, 3])>\n",
      "<class 'tensorflow.python.ops.resource_variable_ops.ResourceVariable'>\n"
     ]
    }
   ],
   "source": [
    "#numpy나 list를 tensor로 변환 가능\n",
    "test_list = [1,2,3]\n",
    "test_np = np.array([1,2,3])\n",
    "\n",
    "t1 = tf.Variable(test_list)\n",
    "t2 = tf.Variable(test_np)\n",
    "\n",
    "print(t1)\n",
    "print(type(t1))\n",
    "print(t2)\n",
    "print(type(t2))"
   ]
  },
  {
   "cell_type": "code",
   "execution_count": 12,
   "id": "a1089449",
   "metadata": {},
   "outputs": [
    {
     "name": "stdout",
     "output_type": "stream",
     "text": [
      "tf.Tensor([1 2 3], shape=(3,), dtype=int32)\n",
      "<class 'tensorflow.python.framework.ops.EagerTensor'>\n",
      "tf.Tensor([1 2 3], shape=(3,), dtype=int32)\n",
      "<class 'tensorflow.python.framework.ops.EagerTensor'>\n"
     ]
    }
   ],
   "source": [
    "test_list = [1,2,3]\n",
    "test_np = np.array([1,2,3])\n",
    "\n",
    "t1 = tf.constant(test_list)\n",
    "t2 = tf.constant(test_np)\n",
    "\n",
    "print(t1)\n",
    "print(type(t1))\n",
    "print(t2)\n",
    "print(type(t2))"
   ]
  },
  {
   "cell_type": "code",
   "execution_count": 16,
   "id": "3c75a011",
   "metadata": {},
   "outputs": [],
   "source": [
    "t1 = tf.constant(test_list)\n",
    "t2 = tf.Variable(test_list)\n",
    "#t3 = tf.contant(t2) Variable를 constant로 바꿔주지 못한다.\n",
    "t4 = tf.Variable(t1)  # constant를 Variable로 바꿔주는게 가능"
   ]
  },
  {
   "cell_type": "code",
   "execution_count": 21,
   "id": "297e110d",
   "metadata": {},
   "outputs": [
    {
     "name": "stdout",
     "output_type": "stream",
     "text": [
      "tf.Tensor([1 2 3], shape=(3,), dtype=int32)\n",
      "<class 'tensorflow.python.framework.ops.EagerTensor'>\n",
      "tf.Tensor([1 2 3], shape=(3,), dtype=int32)\n",
      "<class 'tensorflow.python.framework.ops.EagerTensor'>\n",
      "<tf.Variable 'Variable:0' shape=(3,) dtype=int32, numpy=array([1, 2, 3])>\n",
      "<class 'tensorflow.python.ops.resource_variable_ops.ResourceVariable'>\n"
     ]
    }
   ],
   "source": [
    "# eager tensor를 만ㄷ는 다른 방법\n",
    "t1 = tf.convert_to_tensor(test_list)\n",
    "t2 = tf.convert_to_tensor(test_list)\n",
    "\n",
    "t3 = tf.Variable(test_list)\n",
    "t4 = tf.convert_to_tensor(t3) # 이걸로 하면 variable tensor도 변환 가능 foraward 기록이 없어짐\n",
    "\n",
    "print(t1)\n",
    "print(type(t1))\n",
    "print(t2)\n",
    "print(type(t2))\n",
    "print(t3)\n",
    "print(type(t3))"
   ]
  },
  {
   "cell_type": "code",
   "execution_count": 23,
   "id": "8ae41b02",
   "metadata": {},
   "outputs": [
    {
     "name": "stdout",
     "output_type": "stream",
     "text": [
      "<class 'tensorflow.python.framework.ops.EagerTensor'>\n",
      "<class 'tensorflow.python.framework.ops.EagerTensor'>\n"
     ]
    }
   ],
   "source": [
    "test_list1 = [10,20,30]\n",
    "test_list2 = [1,2,3]\n",
    "\n",
    "t1 = tf.constant(test_list1)\n",
    "t2 = tf.Variable(test_list2)\n",
    "\n",
    "# constant랑 Variable을 더하면 eagertensor 나옴\n",
    "t3 = t1 + t2 \n",
    "print(type(t3))\n",
    "\n",
    "# Variable 끼리 더해도 eagertensor가 나온다\n",
    "t4 = t2 + t2\n",
    "print(type(t4))"
   ]
  }
 ],
 "metadata": {
  "kernelspec": {
   "display_name": "Python 3 (ipykernel)",
   "language": "python",
   "name": "python3"
  },
  "language_info": {
   "codemirror_mode": {
    "name": "ipython",
    "version": 3
   },
   "file_extension": ".py",
   "mimetype": "text/x-python",
   "name": "python",
   "nbconvert_exporter": "python",
   "pygments_lexer": "ipython3",
   "version": "3.7.0"
  }
 },
 "nbformat": 4,
 "nbformat_minor": 5
}
