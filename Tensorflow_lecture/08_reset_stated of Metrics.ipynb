{
 "cells": [
  {
   "cell_type": "code",
   "execution_count": 30,
   "id": "cb62cf24",
   "metadata": {},
   "outputs": [],
   "source": [
    "import tensorflow as tf\n",
    "import numpy as np\n",
    "import matplotlib.pyplot as plt\n",
    "\n",
    "from tensorflow.keras.models import Sequential, Model\n",
    "from tensorflow.keras.layers import Dense\n",
    "\n",
    "from tensorflow.keras.losses import SparseCategoricalCrossentropy\n",
    "from tensorflow.keras.optimizers import SGD\n",
    "from tensorflow.keras.metrics import SparseCategoricalAccuracy, Mean"
   ]
  },
  {
   "cell_type": "code",
   "execution_count": 8,
   "id": "20bed1e4",
   "metadata": {},
   "outputs": [],
   "source": [
    "n_train = 1000\n",
    "\n",
    "train_x = np.random.normal(0,1, size = (n_train,1)).astype(np.float32)\n",
    "train_x_noise = train_x + 0.2*np.random.normal(0,1,size = (n_train, 1))\n",
    "\n",
    "train_y = (train_x_noise > 0).astype(np.int32)"
   ]
  },
  {
   "cell_type": "code",
   "execution_count": 10,
   "id": "52664a3a",
   "metadata": {},
   "outputs": [
    {
     "data": {
      "image/png": "[encoded data removed]",
      "text/plain": [
       "<Figure size 1080x720 with 1 Axes>"
      ]
     },
     "metadata": {
      "needs_background": "light"
     },
     "output_type": "display_data"
    }
   ],
   "source": [
    "fig, ax = plt.subplots(figsize = (15,10))\n",
    "ax.scatter(train_x, train_y)\n",
    "ax.tick_params(labelsize = 20)\n",
    "ax.grid()"
   ]
  },
  {
   "cell_type": "code",
   "execution_count": 12,
   "id": "0b211201",
   "metadata": {},
   "outputs": [],
   "source": [
    "train_ds = tf.data.Dataset.from_tensor_slices((train_x, train_y))\n",
    "train_ds = train_ds.shuffle(n_train).batch(8)"
   ]
  },
  {
   "cell_type": "code",
   "execution_count": 33,
   "id": "1a39a2ee",
   "metadata": {},
   "outputs": [],
   "source": [
    "model = Sequential()\n",
    "model.add(Dense(units= 2, activation = 'softmax'))\n",
    "\n",
    "loss_object = SparseCategoricalCrossentropy()\n",
    "optimizer =SGD(learning_rate = 1)\n",
    "\n",
    "train_loss = Mean()\n",
    "train_acc = SparseCategoricalAccuracy()"
   ]
  },
  {
   "cell_type": "code",
   "execution_count": 34,
   "id": "9a0ec7d8",
   "metadata": {},
   "outputs": [],
   "source": [
    "class MyModel(Model):\n",
    "    def __init__(self):\n",
    "        super(MyModel, self).__init__()\n",
    "        selt.d1 = Dense(units=2, activation = 'softmax')\n",
    "    def call(self, x):\n",
    "        x = self.d1(x)\n",
    "        return x\n",
    "    "
   ]
  },
  {
   "cell_type": "code",
   "execution_count": 41,
   "id": "dd9058bb",
   "metadata": {},
   "outputs": [
    {
     "name": "stdout",
     "output_type": "stream",
     "text": [
      "epoch : 1 loss : 0.1541079729795456:.4f acc : 92.599998\n",
      "epoch : 2 loss : 0.1575503796339035:.4f acc : 92.299995\n",
      "epoch : 3 loss : 0.15792492032051086:.4f acc : 92.500000\n",
      "epoch : 4 loss : 0.15608030557632446:.4f acc : 92.199997\n",
      "epoch : 5 loss : 0.15835922956466675:.4f acc : 92.599998\n",
      "epoch : 6 loss : 0.15791453421115875:.4f acc : 92.599998\n",
      "epoch : 7 loss : 0.15824568271636963:.4f acc : 92.199997\n",
      "epoch : 8 loss : 0.15832465887069702:.4f acc : 92.299995\n",
      "epoch : 9 loss : 0.1564766764640808:.4f acc : 92.500000\n",
      "epoch : 10 loss : 0.1591425985097885:.4f acc : 92.500000\n"
     ]
    }
   ],
   "source": [
    "EPOCHS = 10\n",
    "for epoch in range(EPOCHS):\n",
    "    for x,y in train_ds:\n",
    "        with tf.GradientTape() as tape:\n",
    "            predictions = model(x)\n",
    "            loss = loss_object(y, predictions)\n",
    "        gradients = tape.gradient(loss, model.trainable_variables)\n",
    "        optimizer.apply_gradients(zip(gradients, model.trainable_variables))\n",
    "\n",
    "        train_loss(loss)\n",
    "        train_acc(y, predictions)\n",
    "    print(\"epoch : {} loss : {}:.4f acc : {:2f}\".format(epoch+1, train_loss.result(), train_acc.result()*100))\n",
    "    train_loss.reset_states() \n",
    "    train_acc.reset_states() \n",
    "    "
   ]
  },
  {
   "cell_type": "code",
   "execution_count": 38,
   "id": "50de358c",
   "metadata": {},
   "outputs": [
    {
     "name": "stdout",
     "output_type": "stream",
     "text": [
      "tf.Tensor(1.0, shape=(), dtype=float32)\n",
      "tf.Tensor(1.5, shape=(), dtype=float32)\n"
     ]
    }
   ],
   "source": [
    "train_loss = Mean()\n",
    "\n",
    "loss1 = tf.constant(1)\n",
    "train_loss(loss1)\n",
    "print(train_loss.result())\n",
    "\n",
    "loss2 = tf.constant(2)\n",
    "train_loss(loss2)\n",
    "print(train_loss.result())  # 평균이 들어가게 된다/ 누적 값을 평균을 구함\n",
    "\n",
    "# 두번째 epoch에서는 loss를 초기화 하고 다시 돌려야함"
   ]
  },
  {
   "cell_type": "code",
   "execution_count": 39,
   "id": "626877f0",
   "metadata": {},
   "outputs": [
    {
     "name": "stdout",
     "output_type": "stream",
     "text": [
      "tf.Tensor(1.0, shape=(), dtype=float32)\n",
      "tf.Tensor(2.0, shape=(), dtype=float32)\n"
     ]
    }
   ],
   "source": [
    "train_loss = Mean()\n",
    "\n",
    "loss1 = tf.constant(1)\n",
    "train_loss(loss1)\n",
    "print(train_loss.result())\n",
    "\n",
    "train_loss.reset_states() # 초기화 해주기\n",
    "loss2 = tf.constant(2)\n",
    "train_loss(loss2)\n",
    "print(train_loss.result())  "
   ]
  },
  {
   "cell_type": "code",
   "execution_count": null,
   "id": "1fc3b6e0",
   "metadata": {},
   "outputs": [],
   "source": []
  }
 ],
 "metadata": {
  "kernelspec": {
   "display_name": "Python 3 (ipykernel)",
   "language": "python",
   "name": "python3"
  },
  "language_info": {
   "codemirror_mode": {
    "name": "ipython",
    "version": 3
   },
   "file_extension": ".py",
   "mimetype": "text/x-python",
   "name": "python",
   "nbconvert_exporter": "python",
   "pygments_lexer": "ipython3",
   "version": "3.7.0"
  }
 },
 "nbformat": 4,
 "nbformat_minor": 5
}
