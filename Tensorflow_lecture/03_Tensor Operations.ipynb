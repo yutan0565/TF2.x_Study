{
 "cells": [
  {
   "cell_type": "code",
   "execution_count": 1,
   "id": "d07bab30",
   "metadata": {},
   "outputs": [],
   "source": [
    "import tensorflow as tf\n",
    "import numpy as np"
   ]
  },
  {
   "cell_type": "code",
   "execution_count": 3,
   "id": "d6c3f7d4",
   "metadata": {},
   "outputs": [],
   "source": [
    "t1 = tf.constant([1,2,3])\n",
    "t2 = tf.constant([10,20,30])"
   ]
  },
  {
   "cell_type": "code",
   "execution_count": 6,
   "id": "c964b91d",
   "metadata": {},
   "outputs": [
    {
     "name": "stdout",
     "output_type": "stream",
     "text": [
      "tf.Tensor([11 22 33], shape=(3,), dtype=int32)\n",
      "tf.Tensor([ -9 -18 -27], shape=(3,), dtype=int32)\n",
      "tf.Tensor([10 40 90], shape=(3,), dtype=int32)\n",
      "tf.Tensor([0.1 0.1 0.1], shape=(3,), dtype=float64)\n",
      "tf.Tensor([1 2 3], shape=(3,), dtype=int32)\n",
      "tf.Tensor([0 0 0], shape=(3,), dtype=int32)\n"
     ]
    }
   ],
   "source": [
    "print(t1 + t2) #각 원소바다 연산을 진행하게 된다 (shape이 맞아야함)\n",
    "print(t1 - t2)\n",
    "print(t1 * t2)\n",
    "print(t1 / t2)\n",
    "print(t1 % t2)\n",
    "print(t1 // t2)"
   ]
  },
  {
   "cell_type": "code",
   "execution_count": 20,
   "id": "53060e1d",
   "metadata": {},
   "outputs": [],
   "source": [
    "t1  = tf.random.normal(shape = (3,1), mean = 0, stddev = 5)\n",
    "t2  = tf.random.normal(shape = (1,6), mean = 0, stddev = 5)\n",
    "\n",
    "#  (3,5)  (2,7)  이렇게 완전 다르면 element wise 연산 불가능 !\n"
   ]
  },
  {
   "cell_type": "code",
   "execution_count": 21,
   "id": "b6f9b162",
   "metadata": {},
   "outputs": [],
   "source": [
    "t1 = tf.cast(t1, dtype = tf.int16)\n",
    "t2 = tf.cast(t2, dtype = tf.int16)"
   ]
  },
  {
   "cell_type": "code",
   "execution_count": 22,
   "id": "379d5bdd",
   "metadata": {},
   "outputs": [
    {
     "name": "stdout",
     "output_type": "stream",
     "text": [
      "[[5]\n",
      " [6]\n",
      " [6]]\n",
      "[[ 2 -4  3 -1  4  1]]\n"
     ]
    }
   ],
   "source": [
    "print(t1.numpy())\n",
    "print(t2.numpy())"
   ]
  },
  {
   "cell_type": "code",
   "execution_count": 23,
   "id": "78f92f39",
   "metadata": {},
   "outputs": [
    {
     "name": "stdout",
     "output_type": "stream",
     "text": [
      "tf.Tensor(\n",
      "[[5]\n",
      " [6]\n",
      " [6]], shape=(3, 1), dtype=int16)\n",
      "tf.Tensor([[ 2 -4  3 -1  4  1]], shape=(1, 6), dtype=int16)\n",
      "tf.Tensor(\n",
      "[[ 7  1  8  4  9  6]\n",
      " [ 8  2  9  5 10  7]\n",
      " [ 8  2  9  5 10  7]], shape=(3, 6), dtype=int16)\n"
     ]
    }
   ],
   "source": [
    "t3 = t1 + t2 # shape이 다르면, 알아서 마춰서 연사늘 수행 해줌\n",
    "print(t1)\n",
    "print(t2)\n",
    "print(t1 + t2)"
   ]
  },
  {
   "cell_type": "code",
   "execution_count": 30,
   "id": "e7297045",
   "metadata": {},
   "outputs": [
    {
     "name": "stdout",
     "output_type": "stream",
     "text": [
      "[[[  5  -1   0  -1 -11   3  -2]\n",
      "  [ 11   0   7   3  -2  -4   7]\n",
      "  [  1   1   3  -2  -3  -4  -8]\n",
      "  [ -5   1  -5  -5  -4   6   0]\n",
      "  [ -2  -2   0  -4  -1  -8  -7]]\n",
      "\n",
      " [[  2   1   0  -1 -10   6  -1]\n",
      "  [  0  -4  -5   5   1   1  -3]\n",
      "  [ -9  -4   3  -8   0  -1   0]\n",
      "  [ -4  11   8  -2   0   1   4]\n",
      "  [ -1   1  -6 -12  -5  -4   1]]\n",
      "\n",
      " [[  3   7   2   0   2   1   0]\n",
      "  [  0   2   0  -1   9   0   6]\n",
      "  [ -3   3  -3 -12  -2  -8  -4]\n",
      "  [ -8  -1  -3   0  -5   3   2]\n",
      "  [  2  -5  -2  -6  10   8  -2]]]\n"
     ]
    }
   ],
   "source": [
    "t1  = tf.random.normal(shape = (3,5, 7), mean = 0, stddev = 5)\n",
    "t1 = tf.cast(t1, dtype = tf.int16)\n",
    "\n",
    "print(t1.numpy())"
   ]
  },
  {
   "cell_type": "markdown",
   "id": "8fb29ed3",
   "metadata": {},
   "source": [
    "tf.reduce_sum   그냥 모든 합 ,  \n",
    "tf.reduce_prod\n",
    "tf.reduce_max\n",
    "tf.reduce_min\n",
    "tf.reduce_mean\n",
    "tf.reduce_std\n",
    "tf.reduce_variance\n",
    "tf.reduce_all\n",
    "tf.reduce_any\n",
    "\n",
    "(3, 4)   axis = 1 이면,  4 축을 없애면서 더해주기 -> (3. 0) 만 남는다.\n",
    "\n",
    "축 없으면 그냥 다 더해 주기, axis 설정 -> 축 설정  axis = 0  세로 반향 , axis = 1 가로 방향"
   ]
  },
  {
   "cell_type": "code",
   "execution_count": 32,
   "id": "529491b9",
   "metadata": {},
   "outputs": [
    {
     "name": "stdout",
     "output_type": "stream",
     "text": [
      "(3, 5, 7)\n",
      "(5, 7)\n",
      "(3, 7)\n",
      "(3, 5)\n"
     ]
    }
   ],
   "source": [
    "print(t1.shape)\n",
    "t2 = tf.reduce_sum(t1, axis = 0 )\n",
    "print(t2.shape)\n",
    "t2 = tf.reduce_sum(t1, axis = 1 )\n",
    "print(t2.shape)\n",
    "t2 = tf.reduce_sum(t1, axis = 2 )\n",
    "print(t2.shape)\n",
    "\n",
    "\n"
   ]
  },
  {
   "cell_type": "code",
   "execution_count": null,
   "id": "3de42638",
   "metadata": {},
   "outputs": [],
   "source": []
  }
 ],
 "metadata": {
  "kernelspec": {
   "display_name": "Python 3 (ipykernel)",
   "language": "python",
   "name": "python3"
  },
  "language_info": {
   "codemirror_mode": {
    "name": "ipython",
    "version": 3
   },
   "file_extension": ".py",
   "mimetype": "text/x-python",
   "name": "python",
   "nbconvert_exporter": "python",
   "pygments_lexer": "ipython3",
   "version": "3.7.0"
  }
 },
 "nbformat": 4,
 "nbformat_minor": 5
}
