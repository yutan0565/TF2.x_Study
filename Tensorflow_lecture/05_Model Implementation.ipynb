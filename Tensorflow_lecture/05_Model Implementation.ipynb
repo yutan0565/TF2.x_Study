{
 "cells": [
  {
   "cell_type": "code",
   "execution_count": 5,
   "id": "f7dc8270",
   "metadata": {},
   "outputs": [],
   "source": [
    "import tensorflow as tf\n",
    "import numpy as np\n",
    "import matplotlib.pyplot as plt"
   ]
  },
  {
   "cell_type": "code",
   "execution_count": 6,
   "id": "28160295",
   "metadata": {
    "scrolled": false
   },
   "outputs": [
    {
     "data": {
      "text/plain": [
       "'\\n모델을 만드는 방식\\n1. Sequential : 기존 keras에 쓴느 방식, 쉽지만 자율성이 떨어짐\\n2. Functional\\n3. Model sub-Classing : 진입장벽은 높지만, 수준 높은 모델 구축 가능\\n'"
      ]
     },
     "execution_count": 6,
     "metadata": {},
     "output_type": "execute_result"
    }
   ],
   "source": [
    "\"\"\"\n",
    "모델을 만드는 방식\n",
    "1. Sequential : 기존 keras에 쓴느 방식, 쉽지만 자율성이 떨어짐\n",
    "2. Functional\n",
    "3. Model sub-Classing : 진입장벽은 높지만, 수준 높은 모델 구축 가능\n",
    "\"\"\""
   ]
  },
  {
   "cell_type": "code",
   "execution_count": 17,
   "id": "e1318652",
   "metadata": {},
   "outputs": [
    {
     "data": {
      "image/png": "[encoded data removed]",
      "text/plain": [
       "<Figure size 720x720 with 1 Axes>"
      ]
     },
     "metadata": {
      "needs_background": "light"
     },
     "output_type": "display_data"
    }
   ],
   "source": [
    "x_train = tf.random.normal(shape = (1000,), dtype = tf.float32)\n",
    "y_train = 3*x_train + 1 + 0.2*tf.random.normal(shape = (1000,), dtype = tf.float32)\n",
    "\n",
    "x_test = tf.random.normal(shape = (300,), dtype = tf.float32)\n",
    "y_test = 3*x_test + 1 + 0.2*tf.random.normal(shape = (300,), dtype = tf.float32)\n",
    "\n",
    "\n",
    "fig, ax = plt.subplots(figsize= (10,10))\n",
    "ax.scatter(x_train.numpy(), y_train.numpy())\n",
    "ax.tick_params(labelsize = 20)\n",
    "ax.grid()\n"
   ]
  },
  {
   "cell_type": "code",
   "execution_count": 19,
   "id": "6a3e2f77",
   "metadata": {
    "scrolled": true
   },
   "outputs": [
    {
     "name": "stdout",
     "output_type": "stream",
     "text": [
      "Epoch 1/20\n",
      "32/32 [==============================] - 0s 2ms/step - loss: 11.6174\n",
      "Epoch 2/20\n",
      "32/32 [==============================] - 0s 2ms/step - loss: 3.2168\n",
      "Epoch 3/20\n",
      "32/32 [==============================] - 0s 2ms/step - loss: 0.9072\n",
      "Epoch 4/20\n",
      "32/32 [==============================] - 0s 2ms/step - loss: 0.2736\n",
      "Epoch 5/20\n",
      "32/32 [==============================] - 0s 2ms/step - loss: 0.1032\n",
      "Epoch 6/20\n",
      "32/32 [==============================] - 0s 2ms/step - loss: 0.0570\n",
      "Epoch 7/20\n",
      "32/32 [==============================] - 0s 2ms/step - loss: 0.0448\n",
      "Epoch 8/20\n",
      "32/32 [==============================] - 0s 2ms/step - loss: 0.0415\n",
      "Epoch 9/20\n",
      "32/32 [==============================] - 0s 2ms/step - loss: 0.0406\n",
      "Epoch 10/20\n",
      "32/32 [==============================] - 0s 2ms/step - loss: 0.0404\n",
      "Epoch 11/20\n",
      "32/32 [==============================] - 0s 2ms/step - loss: 0.0403\n",
      "Epoch 12/20\n",
      "32/32 [==============================] - 0s 3ms/step - loss: 0.0403\n",
      "Epoch 13/20\n",
      "32/32 [==============================] - 0s 2ms/step - loss: 0.0403\n",
      "Epoch 14/20\n",
      "32/32 [==============================] - 0s 2ms/step - loss: 0.0402\n",
      "Epoch 15/20\n",
      "32/32 [==============================] - 0s 2ms/step - loss: 0.0402\n",
      "Epoch 16/20\n",
      "32/32 [==============================] - 0s 2ms/step - loss: 0.0402\n",
      "Epoch 17/20\n",
      "32/32 [==============================] - 0s 2ms/step - loss: 0.0402\n",
      "Epoch 18/20\n",
      "32/32 [==============================] - 0s 2ms/step - loss: 0.0402\n",
      "Epoch 19/20\n",
      "32/32 [==============================] - 0s 2ms/step - loss: 0.0402\n",
      "Epoch 20/20\n",
      "32/32 [==============================] - 0s 2ms/step - loss: 0.0402\n",
      "10/10 - 0s - loss: 0.0356\n"
     ]
    },
    {
     "data": {
      "text/plain": [
       "0.03559122234582901"
      ]
     },
     "execution_count": 19,
     "metadata": {},
     "output_type": "execute_result"
    }
   ],
   "source": [
    "# sequential 방식으로 만ㄷ르어 주기\n",
    "model = tf.keras.Sequential([\n",
    "    tf.keras.layers.Dense(units = 1, activation = 'linear')\n",
    "])\n",
    "model.compile(loss = 'mean_squared_error',\n",
    "             optimizer = 'SGD')\n",
    "\n",
    "model.fit(x_train, y_train, epochs = 20, verbose = 1)\n",
    "model.evaluate(x_test, y_test, verbose = 2)"
   ]
  },
  {
   "cell_type": "code",
   "execution_count": 30,
   "id": "5bb7b6d2",
   "metadata": {},
   "outputs": [
    {
     "name": "stdout",
     "output_type": "stream",
     "text": [
      "Epoch: 1  Train_loss: 0.00\n",
      "Epoch: 2  Train_loss: 0.00\n",
      "Epoch: 3  Train_loss: 0.00\n",
      "Epoch: 4  Train_loss: 0.00\n",
      "Epoch: 5  Train_loss: 0.00\n",
      "Epoch: 6  Train_loss: 0.00\n",
      "Epoch: 7  Train_loss: 0.00\n",
      "Epoch: 8  Train_loss: 0.00\n",
      "Epoch: 9  Train_loss: 0.00\n",
      "Epoch: 10  Train_loss: 0.00\n"
     ]
    }
   ],
   "source": [
    "# model sub-classing 방식 \n",
    "class LinearPredictor(tf.keras.Model):\n",
    "    def __init__(self):\n",
    "        super(LinearPredictor, self).__init__()\n",
    "        \n",
    "        self.d1 = tf.keras.layers.Dense(units = 1, activation = 'linear')\n",
    "    \n",
    "    def call(self, x): # forward 진행 해주기\n",
    "        x = self.d1(x)\n",
    "        return x \n",
    "\n",
    "EPOCHS = 10\n",
    "lr = 0.01\n",
    "\n",
    "model  = LinearPredictor()\n",
    "\n",
    "loss_object = tf.keras.losses.MeanSquaredError()\n",
    "optimizer = tf.keras.optimizers.SGD(learning_rate = lr)\n",
    "\n",
    "for epoch in range(EPOCHS):\n",
    "    for x,y in zip(x_train, y_train):\n",
    "        # forward\n",
    "        x = tf.reshape(x, (1,1))\n",
    "        with tf.GradientTape() as tape:\n",
    "            predictions = model(x)\n",
    "            loss = loss_object(y, predictions)\n",
    "        \n",
    "        # backpropagation\n",
    "        gradients = tape.gradient(loss, model.trainable_variables) # loss에 대해서 나머지 gradient 구하기\n",
    "        \n",
    "        # update\n",
    "        optimizer.apply_gradients(zip(gradients, model.trainable_variables))\n",
    "    print(\"Epoch: {}  Train_loss: {:0.4f}\".format(epoch+1, loss))\n",
    "        "
   ]
  },
  {
   "cell_type": "code",
   "execution_count": null,
   "id": "24db1ee1",
   "metadata": {},
   "outputs": [],
   "source": []
  }
 ],
 "metadata": {
  "kernelspec": {
   "display_name": "Python 3 (ipykernel)",
   "language": "python",
   "name": "python3"
  },
  "language_info": {
   "codemirror_mode": {
    "name": "ipython",
    "version": 3
   },
   "file_extension": ".py",
   "mimetype": "text/x-python",
   "name": "python",
   "nbconvert_exporter": "python",
   "pygments_lexer": "ipython3",
   "version": "3.7.0"
  }
 },
 "nbformat": 4,
 "nbformat_minor": 5
}
